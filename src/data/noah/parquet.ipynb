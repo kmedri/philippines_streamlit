{
 "cells": [
  {
   "cell_type": "code",
   "execution_count": 2,
   "metadata": {},
   "outputs": [],
   "source": [
    "import pandas as pd\n",
    "import geopandas as gpd"
   ]
  },
  {
   "cell_type": "code",
   "execution_count": 3,
   "metadata": {},
   "outputs": [],
   "source": [
    "gdf5 = gpd.read_parquet('flood/flood-5yr-projected.parquet')\n",
    "gdf25 = gpd.read_parquet('flood/flood-25yr-projected.parquet')\n",
    "gdf100 = gpd.read_parquet('flood/flood-100yr-projected.parquet')"
   ]
  },
  {
   "cell_type": "code",
   "execution_count": 4,
   "metadata": {},
   "outputs": [
    {
     "data": {
      "text/html": [
       "<div>\n",
       "<style scoped>\n",
       "    .dataframe tbody tr th:only-of-type {\n",
       "        vertical-align: middle;\n",
       "    }\n",
       "\n",
       "    .dataframe tbody tr th {\n",
       "        vertical-align: top;\n",
       "    }\n",
       "\n",
       "    .dataframe thead th {\n",
       "        text-align: right;\n",
       "    }\n",
       "</style>\n",
       "<table border=\"1\" class=\"dataframe\">\n",
       "  <thead>\n",
       "    <tr style=\"text-align: right;\">\n",
       "      <th></th>\n",
       "      <th>name</th>\n",
       "      <th>Var</th>\n",
       "      <th>geometry</th>\n",
       "      <th>index</th>\n",
       "    </tr>\n",
       "  </thead>\n",
       "  <tbody>\n",
       "    <tr>\n",
       "      <th>0</th>\n",
       "      <td>Abulug</td>\n",
       "      <td>1.0</td>\n",
       "      <td>MULTIPOLYGON (((121.45743 18.31354, 121.45753 ...</td>\n",
       "      <td>0</td>\n",
       "    </tr>\n",
       "    <tr>\n",
       "      <th>1</th>\n",
       "      <td>Abulug</td>\n",
       "      <td>2.0</td>\n",
       "      <td>MULTIPOLYGON (((121.46552 18.30895, 121.46533 ...</td>\n",
       "      <td>13</td>\n",
       "    </tr>\n",
       "    <tr>\n",
       "      <th>2</th>\n",
       "      <td>Abulug</td>\n",
       "      <td>3.0</td>\n",
       "      <td>MULTIPOLYGON (((121.46557 18.30900, 121.46566 ...</td>\n",
       "      <td>26</td>\n",
       "    </tr>\n",
       "    <tr>\n",
       "      <th>3</th>\n",
       "      <td>Aglipay</td>\n",
       "      <td>1.0</td>\n",
       "      <td>MULTIPOLYGON (((121.55973 16.47657, 121.55973 ...</td>\n",
       "      <td>0</td>\n",
       "    </tr>\n",
       "    <tr>\n",
       "      <th>4</th>\n",
       "      <td>Aglipay</td>\n",
       "      <td>2.0</td>\n",
       "      <td>MULTIPOLYGON (((121.56030 16.47549, 121.56002 ...</td>\n",
       "      <td>10</td>\n",
       "    </tr>\n",
       "    <tr>\n",
       "      <th>...</th>\n",
       "      <td>...</td>\n",
       "      <td>...</td>\n",
       "      <td>...</td>\n",
       "      <td>...</td>\n",
       "    </tr>\n",
       "    <tr>\n",
       "      <th>1971</th>\n",
       "      <td>Zaragoza</td>\n",
       "      <td>2.0</td>\n",
       "      <td>MULTIPOLYGON (((120.74525 15.45612, 120.74525 ...</td>\n",
       "      <td>55</td>\n",
       "    </tr>\n",
       "    <tr>\n",
       "      <th>1972</th>\n",
       "      <td>Zaragoza</td>\n",
       "      <td>3.0</td>\n",
       "      <td>MULTIPOLYGON (((120.74470 15.45569, 120.74469 ...</td>\n",
       "      <td>80</td>\n",
       "    </tr>\n",
       "    <tr>\n",
       "      <th>1973</th>\n",
       "      <td>Zarraga</td>\n",
       "      <td>1.0</td>\n",
       "      <td>MULTIPOLYGON (((122.60586 10.81340, 122.60585 ...</td>\n",
       "      <td>36</td>\n",
       "    </tr>\n",
       "    <tr>\n",
       "      <th>1974</th>\n",
       "      <td>Zarraga</td>\n",
       "      <td>2.0</td>\n",
       "      <td>MULTIPOLYGON (((122.60925 10.80581, 122.60934 ...</td>\n",
       "      <td>74</td>\n",
       "    </tr>\n",
       "    <tr>\n",
       "      <th>1975</th>\n",
       "      <td>Zarraga</td>\n",
       "      <td>3.0</td>\n",
       "      <td>MULTIPOLYGON (((122.63020 10.80511, 122.63029 ...</td>\n",
       "      <td>112</td>\n",
       "    </tr>\n",
       "  </tbody>\n",
       "</table>\n",
       "<p>1976 rows × 4 columns</p>\n",
       "</div>"
      ],
      "text/plain": [
       "          name  Var                                           geometry  index\n",
       "0       Abulug  1.0  MULTIPOLYGON (((121.45743 18.31354, 121.45753 ...      0\n",
       "1       Abulug  2.0  MULTIPOLYGON (((121.46552 18.30895, 121.46533 ...     13\n",
       "2       Abulug  3.0  MULTIPOLYGON (((121.46557 18.30900, 121.46566 ...     26\n",
       "3      Aglipay  1.0  MULTIPOLYGON (((121.55973 16.47657, 121.55973 ...      0\n",
       "4      Aglipay  2.0  MULTIPOLYGON (((121.56030 16.47549, 121.56002 ...     10\n",
       "...        ...  ...                                                ...    ...\n",
       "1971  Zaragoza  2.0  MULTIPOLYGON (((120.74525 15.45612, 120.74525 ...     55\n",
       "1972  Zaragoza  3.0  MULTIPOLYGON (((120.74470 15.45569, 120.74469 ...     80\n",
       "1973   Zarraga  1.0  MULTIPOLYGON (((122.60586 10.81340, 122.60585 ...     36\n",
       "1974   Zarraga  2.0  MULTIPOLYGON (((122.60925 10.80581, 122.60934 ...     74\n",
       "1975   Zarraga  3.0  MULTIPOLYGON (((122.63020 10.80511, 122.63029 ...    112\n",
       "\n",
       "[1976 rows x 4 columns]"
      ]
     },
     "execution_count": 4,
     "metadata": {},
     "output_type": "execute_result"
    }
   ],
   "source": [
    "gdf5"
   ]
  },
  {
   "cell_type": "code",
   "execution_count": 5,
   "metadata": {},
   "outputs": [
    {
     "data": {
      "text/plain": [
       "(1976, 4)"
      ]
     },
     "execution_count": 5,
     "metadata": {},
     "output_type": "execute_result"
    }
   ],
   "source": [
    "gdf5.shape"
   ]
  },
  {
   "cell_type": "code",
   "execution_count": 6,
   "metadata": {},
   "outputs": [
    {
     "data": {
      "text/plain": [
       "671"
      ]
     },
     "execution_count": 6,
     "metadata": {},
     "output_type": "execute_result"
    }
   ],
   "source": [
    "len(gdf5['name'].unique())"
   ]
  },
  {
   "cell_type": "code",
   "execution_count": 7,
   "metadata": {},
   "outputs": [
    {
     "data": {
      "text/html": [
       "<div>\n",
       "<style scoped>\n",
       "    .dataframe tbody tr th:only-of-type {\n",
       "        vertical-align: middle;\n",
       "    }\n",
       "\n",
       "    .dataframe tbody tr th {\n",
       "        vertical-align: top;\n",
       "    }\n",
       "\n",
       "    .dataframe thead th {\n",
       "        text-align: right;\n",
       "    }\n",
       "</style>\n",
       "<table border=\"1\" class=\"dataframe\">\n",
       "  <thead>\n",
       "    <tr style=\"text-align: right;\">\n",
       "      <th></th>\n",
       "      <th>name</th>\n",
       "      <th>Var</th>\n",
       "      <th>geometry</th>\n",
       "      <th>index</th>\n",
       "    </tr>\n",
       "  </thead>\n",
       "  <tbody>\n",
       "    <tr>\n",
       "      <th>0</th>\n",
       "      <td>Abucay</td>\n",
       "      <td>1.0</td>\n",
       "      <td>MULTIPOLYGON (((120.49886 14.68963, 120.49858 ...</td>\n",
       "      <td>0</td>\n",
       "    </tr>\n",
       "    <tr>\n",
       "      <th>1</th>\n",
       "      <td>Abucay</td>\n",
       "      <td>2.0</td>\n",
       "      <td>MULTIPOLYGON (((120.49458 14.69058, 120.49449 ...</td>\n",
       "      <td>12</td>\n",
       "    </tr>\n",
       "    <tr>\n",
       "      <th>2</th>\n",
       "      <td>Abucay</td>\n",
       "      <td>3.0</td>\n",
       "      <td>MULTIPOLYGON (((120.49430 14.69076, 120.49421 ...</td>\n",
       "      <td>24</td>\n",
       "    </tr>\n",
       "    <tr>\n",
       "      <th>3</th>\n",
       "      <td>Abulug</td>\n",
       "      <td>1.0</td>\n",
       "      <td>MULTIPOLYGON (((121.38062 18.35339, 121.38063 ...</td>\n",
       "      <td>0</td>\n",
       "    </tr>\n",
       "    <tr>\n",
       "      <th>4</th>\n",
       "      <td>Abulug</td>\n",
       "      <td>2.0</td>\n",
       "      <td>MULTIPOLYGON (((121.38044 18.35320, 121.38025 ...</td>\n",
       "      <td>33</td>\n",
       "    </tr>\n",
       "    <tr>\n",
       "      <th>...</th>\n",
       "      <td>...</td>\n",
       "      <td>...</td>\n",
       "      <td>...</td>\n",
       "      <td>...</td>\n",
       "    </tr>\n",
       "    <tr>\n",
       "      <th>2806</th>\n",
       "      <td>Zaragoza</td>\n",
       "      <td>2.0</td>\n",
       "      <td>MULTIPOLYGON (((120.74671 15.44993, 120.74671 ...</td>\n",
       "      <td>99</td>\n",
       "    </tr>\n",
       "    <tr>\n",
       "      <th>2807</th>\n",
       "      <td>Zaragoza</td>\n",
       "      <td>3.0</td>\n",
       "      <td>MULTIPOLYGON (((120.74491 15.45585, 120.74497 ...</td>\n",
       "      <td>147</td>\n",
       "    </tr>\n",
       "    <tr>\n",
       "      <th>2808</th>\n",
       "      <td>Zarraga</td>\n",
       "      <td>1.0</td>\n",
       "      <td>MULTIPOLYGON (((122.60788 10.80644, 122.60788 ...</td>\n",
       "      <td>38</td>\n",
       "    </tr>\n",
       "    <tr>\n",
       "      <th>2809</th>\n",
       "      <td>Zarraga</td>\n",
       "      <td>2.0</td>\n",
       "      <td>MULTIPOLYGON (((122.60879 10.80590, 122.60907 ...</td>\n",
       "      <td>77</td>\n",
       "    </tr>\n",
       "    <tr>\n",
       "      <th>2810</th>\n",
       "      <td>Zarraga</td>\n",
       "      <td>3.0</td>\n",
       "      <td>MULTIPOLYGON (((122.61007 10.80626, 122.60989 ...</td>\n",
       "      <td>116</td>\n",
       "    </tr>\n",
       "  </tbody>\n",
       "</table>\n",
       "<p>2811 rows × 4 columns</p>\n",
       "</div>"
      ],
      "text/plain": [
       "          name  Var                                           geometry  index\n",
       "0       Abucay  1.0  MULTIPOLYGON (((120.49886 14.68963, 120.49858 ...      0\n",
       "1       Abucay  2.0  MULTIPOLYGON (((120.49458 14.69058, 120.49449 ...     12\n",
       "2       Abucay  3.0  MULTIPOLYGON (((120.49430 14.69076, 120.49421 ...     24\n",
       "3       Abulug  1.0  MULTIPOLYGON (((121.38062 18.35339, 121.38063 ...      0\n",
       "4       Abulug  2.0  MULTIPOLYGON (((121.38044 18.35320, 121.38025 ...     33\n",
       "...        ...  ...                                                ...    ...\n",
       "2806  Zaragoza  2.0  MULTIPOLYGON (((120.74671 15.44993, 120.74671 ...     99\n",
       "2807  Zaragoza  3.0  MULTIPOLYGON (((120.74491 15.45585, 120.74497 ...    147\n",
       "2808   Zarraga  1.0  MULTIPOLYGON (((122.60788 10.80644, 122.60788 ...     38\n",
       "2809   Zarraga  2.0  MULTIPOLYGON (((122.60879 10.80590, 122.60907 ...     77\n",
       "2810   Zarraga  3.0  MULTIPOLYGON (((122.61007 10.80626, 122.60989 ...    116\n",
       "\n",
       "[2811 rows x 4 columns]"
      ]
     },
     "execution_count": 7,
     "metadata": {},
     "output_type": "execute_result"
    }
   ],
   "source": [
    "gdf25"
   ]
  },
  {
   "cell_type": "code",
   "execution_count": 8,
   "metadata": {},
   "outputs": [
    {
     "data": {
      "text/plain": [
       "(2811, 4)"
      ]
     },
     "execution_count": 8,
     "metadata": {},
     "output_type": "execute_result"
    }
   ],
   "source": [
    "gdf25.shape"
   ]
  },
  {
   "cell_type": "code",
   "execution_count": 9,
   "metadata": {},
   "outputs": [
    {
     "data": {
      "text/plain": [
       "948"
      ]
     },
     "execution_count": 9,
     "metadata": {},
     "output_type": "execute_result"
    }
   ],
   "source": [
    "len(gdf25['name'].unique())"
   ]
  },
  {
   "cell_type": "code",
   "execution_count": 10,
   "metadata": {},
   "outputs": [
    {
     "data": {
      "text/html": [
       "<div>\n",
       "<style scoped>\n",
       "    .dataframe tbody tr th:only-of-type {\n",
       "        vertical-align: middle;\n",
       "    }\n",
       "\n",
       "    .dataframe tbody tr th {\n",
       "        vertical-align: top;\n",
       "    }\n",
       "\n",
       "    .dataframe thead th {\n",
       "        text-align: right;\n",
       "    }\n",
       "</style>\n",
       "<table border=\"1\" class=\"dataframe\">\n",
       "  <thead>\n",
       "    <tr style=\"text-align: right;\">\n",
       "      <th></th>\n",
       "      <th>index</th>\n",
       "      <th>name</th>\n",
       "      <th>Var</th>\n",
       "      <th>geometry</th>\n",
       "    </tr>\n",
       "  </thead>\n",
       "  <tbody>\n",
       "    <tr>\n",
       "      <th>0</th>\n",
       "      <td>0</td>\n",
       "      <td>Alilem</td>\n",
       "      <td>1.0</td>\n",
       "      <td>MULTIPOLYGON (((120.66861 16.91507, 120.66870 ...</td>\n",
       "    </tr>\n",
       "    <tr>\n",
       "      <th>1</th>\n",
       "      <td>1</td>\n",
       "      <td>Badoc</td>\n",
       "      <td>1.0</td>\n",
       "      <td>MULTIPOLYGON (((120.47105 17.89512, 120.47115 ...</td>\n",
       "    </tr>\n",
       "    <tr>\n",
       "      <th>2</th>\n",
       "      <td>2</td>\n",
       "      <td>Banayoyo</td>\n",
       "      <td>1.0</td>\n",
       "      <td>MULTIPOLYGON (((120.53553 17.22350, 120.53563 ...</td>\n",
       "    </tr>\n",
       "    <tr>\n",
       "      <th>3</th>\n",
       "      <td>3</td>\n",
       "      <td>Bangued</td>\n",
       "      <td>1.0</td>\n",
       "      <td>MULTIPOLYGON (((120.53059 17.69528, 120.53059 ...</td>\n",
       "    </tr>\n",
       "    <tr>\n",
       "      <th>4</th>\n",
       "      <td>4</td>\n",
       "      <td>Bantay</td>\n",
       "      <td>1.0</td>\n",
       "      <td>MULTIPOLYGON (((120.50542 17.64746, 120.50515 ...</td>\n",
       "    </tr>\n",
       "    <tr>\n",
       "      <th>...</th>\n",
       "      <td>...</td>\n",
       "      <td>...</td>\n",
       "      <td>...</td>\n",
       "      <td>...</td>\n",
       "    </tr>\n",
       "    <tr>\n",
       "      <th>150</th>\n",
       "      <td>150</td>\n",
       "      <td>Talayan</td>\n",
       "      <td>3.0</td>\n",
       "      <td>MULTIPOLYGON (((124.39145 6.98204, 124.39145 6...</td>\n",
       "    </tr>\n",
       "    <tr>\n",
       "      <th>151</th>\n",
       "      <td>151</td>\n",
       "      <td>Talitay</td>\n",
       "      <td>3.0</td>\n",
       "      <td>MULTIPOLYGON (((124.39908 7.01430, 124.39860 7...</td>\n",
       "    </tr>\n",
       "    <tr>\n",
       "      <th>152</th>\n",
       "      <td>152</td>\n",
       "      <td>Tantangan</td>\n",
       "      <td>3.0</td>\n",
       "      <td>POLYGON ((124.78861 6.60905, 124.78937 6.60774...</td>\n",
       "    </tr>\n",
       "    <tr>\n",
       "      <th>153</th>\n",
       "      <td>153</td>\n",
       "      <td>Tulunan</td>\n",
       "      <td>3.0</td>\n",
       "      <td>MULTIPOLYGON (((125.00742 6.73274, 125.00661 6...</td>\n",
       "    </tr>\n",
       "    <tr>\n",
       "      <th>154</th>\n",
       "      <td>154</td>\n",
       "      <td>Upi</td>\n",
       "      <td>3.0</td>\n",
       "      <td>MULTIPOLYGON (((124.25176 6.93725, 124.25203 6...</td>\n",
       "    </tr>\n",
       "  </tbody>\n",
       "</table>\n",
       "<p>4912 rows × 4 columns</p>\n",
       "</div>"
      ],
      "text/plain": [
       "     index       name  Var                                           geometry\n",
       "0        0     Alilem  1.0  MULTIPOLYGON (((120.66861 16.91507, 120.66870 ...\n",
       "1        1      Badoc  1.0  MULTIPOLYGON (((120.47105 17.89512, 120.47115 ...\n",
       "2        2   Banayoyo  1.0  MULTIPOLYGON (((120.53553 17.22350, 120.53563 ...\n",
       "3        3    Bangued  1.0  MULTIPOLYGON (((120.53059 17.69528, 120.53059 ...\n",
       "4        4     Bantay  1.0  MULTIPOLYGON (((120.50542 17.64746, 120.50515 ...\n",
       "..     ...        ...  ...                                                ...\n",
       "150    150    Talayan  3.0  MULTIPOLYGON (((124.39145 6.98204, 124.39145 6...\n",
       "151    151    Talitay  3.0  MULTIPOLYGON (((124.39908 7.01430, 124.39860 7...\n",
       "152    152  Tantangan  3.0  POLYGON ((124.78861 6.60905, 124.78937 6.60774...\n",
       "153    153    Tulunan  3.0  MULTIPOLYGON (((125.00742 6.73274, 125.00661 6...\n",
       "154    154        Upi  3.0  MULTIPOLYGON (((124.25176 6.93725, 124.25203 6...\n",
       "\n",
       "[4912 rows x 4 columns]"
      ]
     },
     "execution_count": 10,
     "metadata": {},
     "output_type": "execute_result"
    }
   ],
   "source": [
    "gdf100"
   ]
  },
  {
   "cell_type": "code",
   "execution_count": 11,
   "metadata": {},
   "outputs": [
    {
     "data": {
      "text/plain": [
       "1200"
      ]
     },
     "execution_count": 11,
     "metadata": {},
     "output_type": "execute_result"
    }
   ],
   "source": [
    "len(gdf100['name'].unique())"
   ]
  },
  {
   "cell_type": "code",
   "execution_count": 14,
   "metadata": {},
   "outputs": [
    {
     "data": {
      "text/plain": [
       "<AxesSubplot:>"
      ]
     },
     "execution_count": 14,
     "metadata": {},
     "output_type": "execute_result"
    },
    {
     "data": {
      "image/png": "[encoded data removed]",
      "text/plain": [
       "<Figure size 640x480 with 1 Axes>"
      ]
     },
     "metadata": {},
     "output_type": "display_data"
    }
   ],
   "source": [
    "gdf5.plot()"
   ]
  },
  {
   "cell_type": "code",
   "execution_count": 15,
   "metadata": {},
   "outputs": [
    {
     "data": {
      "text/plain": [
       "<AxesSubplot:>"
      ]
     },
     "execution_count": 15,
     "metadata": {},
     "output_type": "execute_result"
    },
    {
     "data": {
      "image/png": "[encoded data removed]",
      "text/plain": [
       "<Figure size 640x480 with 1 Axes>"
      ]
     },
     "metadata": {},
     "output_type": "display_data"
    }
   ],
   "source": [
    "gdf25.plot()"
   ]
  },
  {
   "cell_type": "code",
   "execution_count": 16,
   "metadata": {},
   "outputs": [
    {
     "data": {
      "text/plain": [
       "<AxesSubplot:>"
      ]
     },
     "execution_count": 16,
     "metadata": {},
     "output_type": "execute_result"
    },
    {
     "data": {
      "image/png": "[encoded data removed]",
      "text/plain": [
       "<Figure size 640x480 with 1 Axes>"
      ]
     },
     "metadata": {},
     "output_type": "display_data"
    }
   ],
   "source": [
    "gdf100.plot()"
   ]
  },
  {
   "cell_type": "code",
   "execution_count": null,
   "metadata": {},
   "outputs": [],
   "source": [
    "gdf100.to_parquet()"
   ]
  },
  {
   "cell_type": "code",
   "execution_count": null,
   "metadata": {},
   "outputs": [],
   "source": [
    "gds1 = gpd.read_parquet('StormSurge/StormSurgeAdvisory1-projected.parquet')\n",
    "gds2 = gpd.read_parquet('StormSurge/StormSurgeAdvisory2-projected.parquet')\n",
    "gds3 = gpd.read_parquet('StormSurge/StormSurgeAdvisory3-projected.parquet')\n",
    "gds4 = gpd.read_parquet('StormSurge/StormSurgeAdvisory4-projected.parquet')"
   ]
  },
  {
   "cell_type": "code",
   "execution_count": 13,
   "metadata": {},
   "outputs": [
    {
     "ename": "NameError",
     "evalue": "name 'gds1' is not defined",
     "output_type": "error",
     "traceback": [
      "\u001b[1;31m---------------------------------------------------------------------------\u001b[0m",
      "\u001b[1;31mNameError\u001b[0m                                 Traceback (most recent call last)",
      "Cell \u001b[1;32mIn[13], line 1\u001b[0m\n\u001b[1;32m----> 1\u001b[0m gds1\n",
      "\u001b[1;31mNameError\u001b[0m: name 'gds1' is not defined"
     ]
    }
   ],
   "source": [
    "gds1"
   ]
  },
  {
   "cell_type": "code",
   "execution_count": 32,
   "metadata": {},
   "outputs": [
    {
     "data": {
      "text/plain": [
       "<AxesSubplot: >"
      ]
     },
     "execution_count": 32,
     "metadata": {},
     "output_type": "execute_result"
    },
    {
     "data": {
      "image/png": "[encoded data removed]",
      "text/plain": [
       "<Figure size 640x480 with 1 Axes>"
      ]
     },
     "metadata": {},
     "output_type": "display_data"
    }
   ],
   "source": [
    "gds1.plot()"
   ]
  },
  {
   "cell_type": "code",
   "execution_count": 29,
   "metadata": {},
   "outputs": [
    {
     "data": {
      "text/html": [
       "<div>\n",
       "<style scoped>\n",
       "    .dataframe tbody tr th:only-of-type {\n",
       "        vertical-align: middle;\n",
       "    }\n",
       "\n",
       "    .dataframe tbody tr th {\n",
       "        vertical-align: top;\n",
       "    }\n",
       "\n",
       "    .dataframe thead th {\n",
       "        text-align: right;\n",
       "    }\n",
       "</style>\n",
       "<table border=\"1\" class=\"dataframe\">\n",
       "  <thead>\n",
       "    <tr style=\"text-align: right;\">\n",
       "      <th></th>\n",
       "      <th>name</th>\n",
       "      <th>HAZ</th>\n",
       "      <th>geometry</th>\n",
       "      <th>index</th>\n",
       "    </tr>\n",
       "  </thead>\n",
       "  <tbody>\n",
       "    <tr>\n",
       "      <th>0</th>\n",
       "      <td>Aborlan</td>\n",
       "      <td>1.0</td>\n",
       "      <td>MULTIPOLYGON (((118.28923 9.54947, 118.28905 9...</td>\n",
       "      <td>0</td>\n",
       "    </tr>\n",
       "    <tr>\n",
       "      <th>1</th>\n",
       "      <td>Aborlan</td>\n",
       "      <td>2.0</td>\n",
       "      <td>MULTIPOLYGON (((118.28941 9.54947, 118.28923 9...</td>\n",
       "      <td>22</td>\n",
       "    </tr>\n",
       "    <tr>\n",
       "      <th>2</th>\n",
       "      <td>Aborlan</td>\n",
       "      <td>3.0</td>\n",
       "      <td>MULTIPOLYGON (((118.28795 9.55001, 118.28797 9...</td>\n",
       "      <td>44</td>\n",
       "    </tr>\n",
       "    <tr>\n",
       "      <th>3</th>\n",
       "      <td>Abra De Ilog</td>\n",
       "      <td>1.0</td>\n",
       "      <td>MULTIPOLYGON (((120.71631 13.48116, 120.71631 ...</td>\n",
       "      <td>0</td>\n",
       "    </tr>\n",
       "    <tr>\n",
       "      <th>4</th>\n",
       "      <td>Abra De Ilog</td>\n",
       "      <td>2.0</td>\n",
       "      <td>MULTIPOLYGON (((120.63795 13.48767, 120.63795 ...</td>\n",
       "      <td>14</td>\n",
       "    </tr>\n",
       "    <tr>\n",
       "      <th>...</th>\n",
       "      <td>...</td>\n",
       "      <td>...</td>\n",
       "      <td>...</td>\n",
       "      <td>...</td>\n",
       "    </tr>\n",
       "    <tr>\n",
       "      <th>2541</th>\n",
       "      <td>Zamboanguita</td>\n",
       "      <td>2.0</td>\n",
       "      <td>MULTIPOLYGON (((123.12996 9.04715, 123.12995 9...</td>\n",
       "      <td>43</td>\n",
       "    </tr>\n",
       "    <tr>\n",
       "      <th>2542</th>\n",
       "      <td>Zamboanguita</td>\n",
       "      <td>3.0</td>\n",
       "      <td>MULTIPOLYGON (((123.12995 9.04715, 123.12995 9...</td>\n",
       "      <td>65</td>\n",
       "    </tr>\n",
       "    <tr>\n",
       "      <th>2543</th>\n",
       "      <td>Zarraga</td>\n",
       "      <td>1.0</td>\n",
       "      <td>MULTIPOLYGON (((122.64510 10.77406, 122.64510 ...</td>\n",
       "      <td>20</td>\n",
       "    </tr>\n",
       "    <tr>\n",
       "      <th>2544</th>\n",
       "      <td>Zarraga</td>\n",
       "      <td>2.0</td>\n",
       "      <td>MULTIPOLYGON (((122.64510 10.77406, 122.64528 ...</td>\n",
       "      <td>42</td>\n",
       "    </tr>\n",
       "    <tr>\n",
       "      <th>2545</th>\n",
       "      <td>Zarraga</td>\n",
       "      <td>3.0</td>\n",
       "      <td>MULTIPOLYGON (((122.64547 10.77387, 122.64547 ...</td>\n",
       "      <td>64</td>\n",
       "    </tr>\n",
       "  </tbody>\n",
       "</table>\n",
       "<p>2546 rows × 4 columns</p>\n",
       "</div>"
      ],
      "text/plain": [
       "              name  HAZ                                           geometry  \\\n",
       "0          Aborlan  1.0  MULTIPOLYGON (((118.28923 9.54947, 118.28905 9...   \n",
       "1          Aborlan  2.0  MULTIPOLYGON (((118.28941 9.54947, 118.28923 9...   \n",
       "2          Aborlan  3.0  MULTIPOLYGON (((118.28795 9.55001, 118.28797 9...   \n",
       "3     Abra De Ilog  1.0  MULTIPOLYGON (((120.71631 13.48116, 120.71631 ...   \n",
       "4     Abra De Ilog  2.0  MULTIPOLYGON (((120.63795 13.48767, 120.63795 ...   \n",
       "...            ...  ...                                                ...   \n",
       "2541  Zamboanguita  2.0  MULTIPOLYGON (((123.12996 9.04715, 123.12995 9...   \n",
       "2542  Zamboanguita  3.0  MULTIPOLYGON (((123.12995 9.04715, 123.12995 9...   \n",
       "2543       Zarraga  1.0  MULTIPOLYGON (((122.64510 10.77406, 122.64510 ...   \n",
       "2544       Zarraga  2.0  MULTIPOLYGON (((122.64510 10.77406, 122.64528 ...   \n",
       "2545       Zarraga  3.0  MULTIPOLYGON (((122.64547 10.77387, 122.64547 ...   \n",
       "\n",
       "      index  \n",
       "0         0  \n",
       "1        22  \n",
       "2        44  \n",
       "3         0  \n",
       "4        14  \n",
       "...     ...  \n",
       "2541     43  \n",
       "2542     65  \n",
       "2543     20  \n",
       "2544     42  \n",
       "2545     64  \n",
       "\n",
       "[2546 rows x 4 columns]"
      ]
     },
     "execution_count": 29,
     "metadata": {},
     "output_type": "execute_result"
    }
   ],
   "source": [
    "gds2"
   ]
  },
  {
   "cell_type": "code",
   "execution_count": 33,
   "metadata": {},
   "outputs": [
    {
     "data": {
      "text/plain": [
       "<AxesSubplot: >"
      ]
     },
     "execution_count": 33,
     "metadata": {},
     "output_type": "execute_result"
    },
    {
     "data": {
      "image/png": "[encoded data removed]",
      "text/plain": [
       "<Figure size 640x480 with 1 Axes>"
      ]
     },
     "metadata": {},
     "output_type": "display_data"
    }
   ],
   "source": [
    "gds2.plot()"
   ]
  },
  {
   "cell_type": "code",
   "execution_count": 30,
   "metadata": {},
   "outputs": [
    {
     "data": {
      "text/html": [
       "<div>\n",
       "<style scoped>\n",
       "    .dataframe tbody tr th:only-of-type {\n",
       "        vertical-align: middle;\n",
       "    }\n",
       "\n",
       "    .dataframe tbody tr th {\n",
       "        vertical-align: top;\n",
       "    }\n",
       "\n",
       "    .dataframe thead th {\n",
       "        text-align: right;\n",
       "    }\n",
       "</style>\n",
       "<table border=\"1\" class=\"dataframe\">\n",
       "  <thead>\n",
       "    <tr style=\"text-align: right;\">\n",
       "      <th></th>\n",
       "      <th>name</th>\n",
       "      <th>HAZ</th>\n",
       "      <th>geometry</th>\n",
       "      <th>index</th>\n",
       "    </tr>\n",
       "  </thead>\n",
       "  <tbody>\n",
       "    <tr>\n",
       "      <th>0</th>\n",
       "      <td>Aborlan</td>\n",
       "      <td>1.0</td>\n",
       "      <td>MULTIPOLYGON (((118.29323 9.54898, 118.29305 9...</td>\n",
       "      <td>0</td>\n",
       "    </tr>\n",
       "    <tr>\n",
       "      <th>1</th>\n",
       "      <td>Aborlan</td>\n",
       "      <td>2.0</td>\n",
       "      <td>MULTIPOLYGON (((118.29286 9.54934, 118.29323 9...</td>\n",
       "      <td>22</td>\n",
       "    </tr>\n",
       "    <tr>\n",
       "      <th>2</th>\n",
       "      <td>Aborlan</td>\n",
       "      <td>3.0</td>\n",
       "      <td>MULTIPOLYGON (((118.28814 9.54982, 118.28813 9...</td>\n",
       "      <td>44</td>\n",
       "    </tr>\n",
       "    <tr>\n",
       "      <th>3</th>\n",
       "      <td>Abra De Ilog</td>\n",
       "      <td>1.0</td>\n",
       "      <td>MULTIPOLYGON (((120.71668 13.48081, 120.71686 ...</td>\n",
       "      <td>0</td>\n",
       "    </tr>\n",
       "    <tr>\n",
       "      <th>4</th>\n",
       "      <td>Abra De Ilog</td>\n",
       "      <td>2.0</td>\n",
       "      <td>MULTIPOLYGON (((120.63906 13.48750, 120.63850 ...</td>\n",
       "      <td>11</td>\n",
       "    </tr>\n",
       "    <tr>\n",
       "      <th>...</th>\n",
       "      <td>...</td>\n",
       "      <td>...</td>\n",
       "      <td>...</td>\n",
       "      <td>...</td>\n",
       "    </tr>\n",
       "    <tr>\n",
       "      <th>2559</th>\n",
       "      <td>Zamboanguita</td>\n",
       "      <td>2.0</td>\n",
       "      <td>MULTIPOLYGON (((123.12886 9.04627, 123.12859 9...</td>\n",
       "      <td>45</td>\n",
       "    </tr>\n",
       "    <tr>\n",
       "      <th>2560</th>\n",
       "      <td>Zamboanguita</td>\n",
       "      <td>3.0</td>\n",
       "      <td>MULTIPOLYGON (((123.12859 9.04607, 123.12832 9...</td>\n",
       "      <td>68</td>\n",
       "    </tr>\n",
       "    <tr>\n",
       "      <th>2561</th>\n",
       "      <td>Zarraga</td>\n",
       "      <td>1.0</td>\n",
       "      <td>MULTIPOLYGON (((122.63282 10.79431, 122.63264 ...</td>\n",
       "      <td>20</td>\n",
       "    </tr>\n",
       "    <tr>\n",
       "      <th>2562</th>\n",
       "      <td>Zarraga</td>\n",
       "      <td>2.0</td>\n",
       "      <td>MULTIPOLYGON (((122.63264 10.79431, 122.63264 ...</td>\n",
       "      <td>42</td>\n",
       "    </tr>\n",
       "    <tr>\n",
       "      <th>2563</th>\n",
       "      <td>Zarraga</td>\n",
       "      <td>3.0</td>\n",
       "      <td>MULTIPOLYGON (((122.63190 10.79449, 122.63209 ...</td>\n",
       "      <td>64</td>\n",
       "    </tr>\n",
       "  </tbody>\n",
       "</table>\n",
       "<p>2564 rows × 4 columns</p>\n",
       "</div>"
      ],
      "text/plain": [
       "              name  HAZ                                           geometry  \\\n",
       "0          Aborlan  1.0  MULTIPOLYGON (((118.29323 9.54898, 118.29305 9...   \n",
       "1          Aborlan  2.0  MULTIPOLYGON (((118.29286 9.54934, 118.29323 9...   \n",
       "2          Aborlan  3.0  MULTIPOLYGON (((118.28814 9.54982, 118.28813 9...   \n",
       "3     Abra De Ilog  1.0  MULTIPOLYGON (((120.71668 13.48081, 120.71686 ...   \n",
       "4     Abra De Ilog  2.0  MULTIPOLYGON (((120.63906 13.48750, 120.63850 ...   \n",
       "...            ...  ...                                                ...   \n",
       "2559  Zamboanguita  2.0  MULTIPOLYGON (((123.12886 9.04627, 123.12859 9...   \n",
       "2560  Zamboanguita  3.0  MULTIPOLYGON (((123.12859 9.04607, 123.12832 9...   \n",
       "2561       Zarraga  1.0  MULTIPOLYGON (((122.63282 10.79431, 122.63264 ...   \n",
       "2562       Zarraga  2.0  MULTIPOLYGON (((122.63264 10.79431, 122.63264 ...   \n",
       "2563       Zarraga  3.0  MULTIPOLYGON (((122.63190 10.79449, 122.63209 ...   \n",
       "\n",
       "      index  \n",
       "0         0  \n",
       "1        22  \n",
       "2        44  \n",
       "3         0  \n",
       "4        11  \n",
       "...     ...  \n",
       "2559     45  \n",
       "2560     68  \n",
       "2561     20  \n",
       "2562     42  \n",
       "2563     64  \n",
       "\n",
       "[2564 rows x 4 columns]"
      ]
     },
     "execution_count": 30,
     "metadata": {},
     "output_type": "execute_result"
    }
   ],
   "source": [
    "gds3"
   ]
  },
  {
   "cell_type": "code",
   "execution_count": 39,
   "metadata": {},
   "outputs": [
    {
     "data": {
      "text/plain": [
       "<AxesSubplot: >"
      ]
     },
     "execution_count": 39,
     "metadata": {},
     "output_type": "execute_result"
    },
    {
     "data": {
      "image/png": "[encoded data removed]",
      "text/plain": [
       "<Figure size 640x480 with 1 Axes>"
      ]
     },
     "metadata": {},
     "output_type": "display_data"
    }
   ],
   "source": [
    "gds3.plot()"
   ]
  },
  {
   "cell_type": "code",
   "execution_count": 31,
   "metadata": {},
   "outputs": [
    {
     "data": {
      "text/html": [
       "<div>\n",
       "<style scoped>\n",
       "    .dataframe tbody tr th:only-of-type {\n",
       "        vertical-align: middle;\n",
       "    }\n",
       "\n",
       "    .dataframe tbody tr th {\n",
       "        vertical-align: top;\n",
       "    }\n",
       "\n",
       "    .dataframe thead th {\n",
       "        text-align: right;\n",
       "    }\n",
       "</style>\n",
       "<table border=\"1\" class=\"dataframe\">\n",
       "  <thead>\n",
       "    <tr style=\"text-align: right;\">\n",
       "      <th></th>\n",
       "      <th>name</th>\n",
       "      <th>HAZ</th>\n",
       "      <th>geometry</th>\n",
       "      <th>index</th>\n",
       "    </tr>\n",
       "  </thead>\n",
       "  <tbody>\n",
       "    <tr>\n",
       "      <th>0</th>\n",
       "      <td>Aborlan</td>\n",
       "      <td>1.0</td>\n",
       "      <td>MULTIPOLYGON (((118.29653 9.54686, 118.29653 9...</td>\n",
       "      <td>0</td>\n",
       "    </tr>\n",
       "    <tr>\n",
       "      <th>1</th>\n",
       "      <td>Aborlan</td>\n",
       "      <td>2.0</td>\n",
       "      <td>MULTIPOLYGON (((118.29324 9.54880, 118.29323 9...</td>\n",
       "      <td>22</td>\n",
       "    </tr>\n",
       "    <tr>\n",
       "      <th>2</th>\n",
       "      <td>Aborlan</td>\n",
       "      <td>3.0</td>\n",
       "      <td>MULTIPOLYGON (((118.29780 9.56023, 118.29798 9...</td>\n",
       "      <td>44</td>\n",
       "    </tr>\n",
       "    <tr>\n",
       "      <th>3</th>\n",
       "      <td>Abra De Ilog</td>\n",
       "      <td>1.0</td>\n",
       "      <td>MULTIPOLYGON (((120.70077 13.48337, 120.70059 ...</td>\n",
       "      <td>0</td>\n",
       "    </tr>\n",
       "    <tr>\n",
       "      <th>4</th>\n",
       "      <td>Abra De Ilog</td>\n",
       "      <td>2.0</td>\n",
       "      <td>MULTIPOLYGON (((120.68819 13.48615, 120.68800 ...</td>\n",
       "      <td>11</td>\n",
       "    </tr>\n",
       "    <tr>\n",
       "      <th>...</th>\n",
       "      <td>...</td>\n",
       "      <td>...</td>\n",
       "      <td>...</td>\n",
       "      <td>...</td>\n",
       "    </tr>\n",
       "    <tr>\n",
       "      <th>2685</th>\n",
       "      <td>Zamboanguita</td>\n",
       "      <td>2.0</td>\n",
       "      <td>MULTIPOLYGON (((123.12695 9.04607, 123.12695 9...</td>\n",
       "      <td>45</td>\n",
       "    </tr>\n",
       "    <tr>\n",
       "      <th>2686</th>\n",
       "      <td>Zamboanguita</td>\n",
       "      <td>3.0</td>\n",
       "      <td>MULTIPOLYGON (((123.12569 9.04607, 123.12586 9...</td>\n",
       "      <td>68</td>\n",
       "    </tr>\n",
       "    <tr>\n",
       "      <th>2687</th>\n",
       "      <td>Zarraga</td>\n",
       "      <td>1.0</td>\n",
       "      <td>MULTIPOLYGON (((122.62641 10.79737, 122.62660 ...</td>\n",
       "      <td>21</td>\n",
       "    </tr>\n",
       "    <tr>\n",
       "      <th>2688</th>\n",
       "      <td>Zarraga</td>\n",
       "      <td>2.0</td>\n",
       "      <td>MULTIPOLYGON (((122.62641 10.79737, 122.62641 ...</td>\n",
       "      <td>44</td>\n",
       "    </tr>\n",
       "    <tr>\n",
       "      <th>2689</th>\n",
       "      <td>Zarraga</td>\n",
       "      <td>3.0</td>\n",
       "      <td>MULTIPOLYGON (((122.62605 10.79719, 122.62641 ...</td>\n",
       "      <td>67</td>\n",
       "    </tr>\n",
       "  </tbody>\n",
       "</table>\n",
       "<p>2690 rows × 4 columns</p>\n",
       "</div>"
      ],
      "text/plain": [
       "              name  HAZ                                           geometry  \\\n",
       "0          Aborlan  1.0  MULTIPOLYGON (((118.29653 9.54686, 118.29653 9...   \n",
       "1          Aborlan  2.0  MULTIPOLYGON (((118.29324 9.54880, 118.29323 9...   \n",
       "2          Aborlan  3.0  MULTIPOLYGON (((118.29780 9.56023, 118.29798 9...   \n",
       "3     Abra De Ilog  1.0  MULTIPOLYGON (((120.70077 13.48337, 120.70059 ...   \n",
       "4     Abra De Ilog  2.0  MULTIPOLYGON (((120.68819 13.48615, 120.68800 ...   \n",
       "...            ...  ...                                                ...   \n",
       "2685  Zamboanguita  2.0  MULTIPOLYGON (((123.12695 9.04607, 123.12695 9...   \n",
       "2686  Zamboanguita  3.0  MULTIPOLYGON (((123.12569 9.04607, 123.12586 9...   \n",
       "2687       Zarraga  1.0  MULTIPOLYGON (((122.62641 10.79737, 122.62660 ...   \n",
       "2688       Zarraga  2.0  MULTIPOLYGON (((122.62641 10.79737, 122.62641 ...   \n",
       "2689       Zarraga  3.0  MULTIPOLYGON (((122.62605 10.79719, 122.62641 ...   \n",
       "\n",
       "      index  \n",
       "0         0  \n",
       "1        22  \n",
       "2        44  \n",
       "3         0  \n",
       "4        11  \n",
       "...     ...  \n",
       "2685     45  \n",
       "2686     68  \n",
       "2687     21  \n",
       "2688     44  \n",
       "2689     67  \n",
       "\n",
       "[2690 rows x 4 columns]"
      ]
     },
     "execution_count": 31,
     "metadata": {},
     "output_type": "execute_result"
    }
   ],
   "source": [
    "gds4"
   ]
  },
  {
   "cell_type": "code",
   "execution_count": 38,
   "metadata": {},
   "outputs": [
    {
     "data": {
      "text/plain": [
       "<AxesSubplot: >"
      ]
     },
     "execution_count": 38,
     "metadata": {},
     "output_type": "execute_result"
    },
    {
     "data": {
      "image/png": "[encoded data removed]",
      "text/plain": [
       "<Figure size 640x480 with 1 Axes>"
      ]
     },
     "metadata": {},
     "output_type": "display_data"
    }
   ],
   "source": [
    "gds4.plot()"
   ]
  },
  {
   "cell_type": "code",
   "execution_count": 19,
   "metadata": {},
   "outputs": [
    {
     "data": {
      "text/html": [
       "<div>\n",
       "<style scoped>\n",
       "    .dataframe tbody tr th:only-of-type {\n",
       "        vertical-align: middle;\n",
       "    }\n",
       "\n",
       "    .dataframe tbody tr th {\n",
       "        vertical-align: top;\n",
       "    }\n",
       "\n",
       "    .dataframe thead th {\n",
       "        text-align: right;\n",
       "    }\n",
       "</style>\n",
       "<table border=\"1\" class=\"dataframe\">\n",
       "  <thead>\n",
       "    <tr style=\"text-align: right;\">\n",
       "      <th></th>\n",
       "      <th>index</th>\n",
       "      <th>name</th>\n",
       "      <th>LH</th>\n",
       "      <th>geometry</th>\n",
       "    </tr>\n",
       "  </thead>\n",
       "  <tbody>\n",
       "    <tr>\n",
       "      <th>0</th>\n",
       "      <td>0</td>\n",
       "      <td>Adams</td>\n",
       "      <td>3.0</td>\n",
       "      <td>MULTIPOLYGON (((120.96774 18.51522, 120.96774 ...</td>\n",
       "    </tr>\n",
       "    <tr>\n",
       "      <th>1</th>\n",
       "      <td>1</td>\n",
       "      <td>Bacarra</td>\n",
       "      <td>3.0</td>\n",
       "      <td>MULTIPOLYGON (((120.65934 18.29303, 120.65933 ...</td>\n",
       "    </tr>\n",
       "    <tr>\n",
       "      <th>2</th>\n",
       "      <td>2</td>\n",
       "      <td>Badoc</td>\n",
       "      <td>3.0</td>\n",
       "      <td>MULTIPOLYGON (((120.58309 17.91094, 120.58308 ...</td>\n",
       "    </tr>\n",
       "    <tr>\n",
       "      <th>3</th>\n",
       "      <td>3</td>\n",
       "      <td>Bangui</td>\n",
       "      <td>3.0</td>\n",
       "      <td>MULTIPOLYGON (((120.83462 18.53259, 120.83595 ...</td>\n",
       "    </tr>\n",
       "    <tr>\n",
       "      <th>4</th>\n",
       "      <td>4</td>\n",
       "      <td>Banna</td>\n",
       "      <td>3.0</td>\n",
       "      <td>MULTIPOLYGON (((120.66149 17.95408, 120.66135 ...</td>\n",
       "    </tr>\n",
       "    <tr>\n",
       "      <th>...</th>\n",
       "      <td>...</td>\n",
       "      <td>...</td>\n",
       "      <td>...</td>\n",
       "      <td>...</td>\n",
       "    </tr>\n",
       "    <tr>\n",
       "      <th>13</th>\n",
       "      <td>13</td>\n",
       "      <td>Itbayat</td>\n",
       "      <td>3.0</td>\n",
       "      <td>MULTIPOLYGON (((121.93822 20.69659, 121.93820 ...</td>\n",
       "    </tr>\n",
       "    <tr>\n",
       "      <th>14</th>\n",
       "      <td>14</td>\n",
       "      <td>Ivana</td>\n",
       "      <td>3.0</td>\n",
       "      <td>MULTIPOLYGON (((121.92583 20.40833, 121.92583 ...</td>\n",
       "    </tr>\n",
       "    <tr>\n",
       "      <th>15</th>\n",
       "      <td>15</td>\n",
       "      <td>Mahatao</td>\n",
       "      <td>3.0</td>\n",
       "      <td>MULTIPOLYGON (((121.96977 20.41904, 121.97017 ...</td>\n",
       "    </tr>\n",
       "    <tr>\n",
       "      <th>16</th>\n",
       "      <td>16</td>\n",
       "      <td>Sabtang</td>\n",
       "      <td>3.0</td>\n",
       "      <td>MULTIPOLYGON (((121.88834 20.31278, 121.88861 ...</td>\n",
       "    </tr>\n",
       "    <tr>\n",
       "      <th>17</th>\n",
       "      <td>17</td>\n",
       "      <td>Uyugan</td>\n",
       "      <td>3.0</td>\n",
       "      <td>MULTIPOLYGON (((121.97877 20.38493, 121.97886 ...</td>\n",
       "    </tr>\n",
       "  </tbody>\n",
       "</table>\n",
       "<p>871 rows × 4 columns</p>\n",
       "</div>"
      ],
      "text/plain": [
       "    index     name   LH                                           geometry\n",
       "0       0    Adams  3.0  MULTIPOLYGON (((120.96774 18.51522, 120.96774 ...\n",
       "1       1  Bacarra  3.0  MULTIPOLYGON (((120.65934 18.29303, 120.65933 ...\n",
       "2       2    Badoc  3.0  MULTIPOLYGON (((120.58309 17.91094, 120.58308 ...\n",
       "3       3   Bangui  3.0  MULTIPOLYGON (((120.83462 18.53259, 120.83595 ...\n",
       "4       4    Banna  3.0  MULTIPOLYGON (((120.66149 17.95408, 120.66135 ...\n",
       "..    ...      ...  ...                                                ...\n",
       "13     13  Itbayat  3.0  MULTIPOLYGON (((121.93822 20.69659, 121.93820 ...\n",
       "14     14    Ivana  3.0  MULTIPOLYGON (((121.92583 20.40833, 121.92583 ...\n",
       "15     15  Mahatao  3.0  MULTIPOLYGON (((121.96977 20.41904, 121.97017 ...\n",
       "16     16  Sabtang  3.0  MULTIPOLYGON (((121.88834 20.31278, 121.88861 ...\n",
       "17     17   Uyugan  3.0  MULTIPOLYGON (((121.97877 20.38493, 121.97886 ...\n",
       "\n",
       "[871 rows x 4 columns]"
      ]
     },
     "execution_count": 19,
     "metadata": {},
     "output_type": "execute_result"
    }
   ],
   "source": [
    "gdls = gpd.read_parquet('LandslideHazards-projected.parquet')\n",
    "gdls"
   ]
  },
  {
   "cell_type": "code",
   "execution_count": 20,
   "metadata": {},
   "outputs": [
    {
     "data": {
      "text/plain": [
       "<AxesSubplot: >"
      ]
     },
     "execution_count": 20,
     "metadata": {},
     "output_type": "execute_result"
    },
    {
     "data": {
      "image/png": "[encoded data removed]",
      "text/plain": [
       "<Figure size 640x480 with 1 Axes>"
      ]
     },
     "metadata": {},
     "output_type": "display_data"
    }
   ],
   "source": [
    "gdls.plot()"
   ]
  },
  {
   "cell_type": "code",
   "execution_count": 36,
   "metadata": {},
   "outputs": [
    {
     "data": {
      "text/html": [
       "<div>\n",
       "<style scoped>\n",
       "    .dataframe tbody tr th:only-of-type {\n",
       "        vertical-align: middle;\n",
       "    }\n",
       "\n",
       "    .dataframe tbody tr th {\n",
       "        vertical-align: top;\n",
       "    }\n",
       "\n",
       "    .dataframe thead th {\n",
       "        text-align: right;\n",
       "    }\n",
       "</style>\n",
       "<table border=\"1\" class=\"dataframe\">\n",
       "  <thead>\n",
       "    <tr style=\"text-align: right;\">\n",
       "      <th></th>\n",
       "      <th>name</th>\n",
       "      <th>ALLUVIAL</th>\n",
       "      <th>geometry</th>\n",
       "      <th>index</th>\n",
       "    </tr>\n",
       "  </thead>\n",
       "  <tbody>\n",
       "    <tr>\n",
       "      <th>0</th>\n",
       "      <td>Aborlan</td>\n",
       "      <td>4.0</td>\n",
       "      <td>MULTIPOLYGON (((118.45068 9.43076, 118.45084 9...</td>\n",
       "      <td>0</td>\n",
       "    </tr>\n",
       "    <tr>\n",
       "      <th>1</th>\n",
       "      <td>Abra De Ilog</td>\n",
       "      <td>4.0</td>\n",
       "      <td>MULTIPOLYGON (((120.63890 13.33967, 120.63887 ...</td>\n",
       "      <td>1</td>\n",
       "    </tr>\n",
       "    <tr>\n",
       "      <th>2</th>\n",
       "      <td>Abuyog</td>\n",
       "      <td>4.0</td>\n",
       "      <td>MULTIPOLYGON (((125.04834 10.67627, 125.04820 ...</td>\n",
       "      <td>2</td>\n",
       "    </tr>\n",
       "    <tr>\n",
       "      <th>3</th>\n",
       "      <td>Aglipay</td>\n",
       "      <td>4.0</td>\n",
       "      <td>MULTIPOLYGON (((121.63265 16.36098, 121.63213 ...</td>\n",
       "      <td>3</td>\n",
       "    </tr>\n",
       "    <tr>\n",
       "      <th>4</th>\n",
       "      <td>Aguilar</td>\n",
       "      <td>4.0</td>\n",
       "      <td>MULTIPOLYGON (((120.28326 15.83247, 120.28125 ...</td>\n",
       "      <td>4</td>\n",
       "    </tr>\n",
       "    <tr>\n",
       "      <th>...</th>\n",
       "      <td>...</td>\n",
       "      <td>...</td>\n",
       "      <td>...</td>\n",
       "      <td>...</td>\n",
       "    </tr>\n",
       "    <tr>\n",
       "      <th>582</th>\n",
       "      <td>Villanueva</td>\n",
       "      <td>4.0</td>\n",
       "      <td>POLYGON ((124.79071 8.54826, 124.78916 8.54913...</td>\n",
       "      <td>582</td>\n",
       "    </tr>\n",
       "    <tr>\n",
       "      <th>583</th>\n",
       "      <td>Villaverde</td>\n",
       "      <td>4.0</td>\n",
       "      <td>POLYGON ((121.16290 16.56553, 121.15232 16.566...</td>\n",
       "      <td>583</td>\n",
       "    </tr>\n",
       "    <tr>\n",
       "      <th>584</th>\n",
       "      <td>Virac</td>\n",
       "      <td>4.0</td>\n",
       "      <td>MULTIPOLYGON (((124.21279 13.56868, 124.21318 ...</td>\n",
       "      <td>584</td>\n",
       "    </tr>\n",
       "    <tr>\n",
       "      <th>585</th>\n",
       "      <td>Wao</td>\n",
       "      <td>4.0</td>\n",
       "      <td>MULTIPOLYGON (((124.73476 7.62752, 124.73019 7...</td>\n",
       "      <td>585</td>\n",
       "    </tr>\n",
       "    <tr>\n",
       "      <th>586</th>\n",
       "      <td>Zamboanga</td>\n",
       "      <td>4.0</td>\n",
       "      <td>MULTIPOLYGON (((122.06776 6.93344, 122.06558 6...</td>\n",
       "      <td>586</td>\n",
       "    </tr>\n",
       "  </tbody>\n",
       "</table>\n",
       "<p>587 rows × 4 columns</p>\n",
       "</div>"
      ],
      "text/plain": [
       "             name  ALLUVIAL  \\\n",
       "0         Aborlan       4.0   \n",
       "1    Abra De Ilog       4.0   \n",
       "2          Abuyog       4.0   \n",
       "3         Aglipay       4.0   \n",
       "4         Aguilar       4.0   \n",
       "..            ...       ...   \n",
       "582    Villanueva       4.0   \n",
       "583    Villaverde       4.0   \n",
       "584         Virac       4.0   \n",
       "585           Wao       4.0   \n",
       "586     Zamboanga       4.0   \n",
       "\n",
       "                                              geometry  index  \n",
       "0    MULTIPOLYGON (((118.45068 9.43076, 118.45084 9...      0  \n",
       "1    MULTIPOLYGON (((120.63890 13.33967, 120.63887 ...      1  \n",
       "2    MULTIPOLYGON (((125.04834 10.67627, 125.04820 ...      2  \n",
       "3    MULTIPOLYGON (((121.63265 16.36098, 121.63213 ...      3  \n",
       "4    MULTIPOLYGON (((120.28326 15.83247, 120.28125 ...      4  \n",
       "..                                                 ...    ...  \n",
       "582  POLYGON ((124.79071 8.54826, 124.78916 8.54913...    582  \n",
       "583  POLYGON ((121.16290 16.56553, 121.15232 16.566...    583  \n",
       "584  MULTIPOLYGON (((124.21279 13.56868, 124.21318 ...    584  \n",
       "585  MULTIPOLYGON (((124.73476 7.62752, 124.73019 7...    585  \n",
       "586  MULTIPOLYGON (((122.06776 6.93344, 122.06558 6...    586  \n",
       "\n",
       "[587 rows x 4 columns]"
      ]
     },
     "execution_count": 36,
     "metadata": {},
     "output_type": "execute_result"
    }
   ],
   "source": [
    "gdaf = gpd.read_parquet('AlluvialFan-projected.parquet')\n",
    "gdaf"
   ]
  },
  {
   "cell_type": "code",
   "execution_count": 37,
   "metadata": {},
   "outputs": [
    {
     "data": {
      "text/plain": [
       "<AxesSubplot: >"
      ]
     },
     "execution_count": 37,
     "metadata": {},
     "output_type": "execute_result"
    },
    {
     "data": {
      "image/png": "[encoded data removed]",
      "text/plain": [
       "<Figure size 640x480 with 1 Axes>"
      ]
     },
     "metadata": {},
     "output_type": "display_data"
    }
   ],
   "source": [
    "gdaf.plot()"
   ]
  },
  {
   "cell_type": "code",
   "execution_count": 34,
   "metadata": {},
   "outputs": [
    {
     "data": {
      "text/html": [
       "<div>\n",
       "<style scoped>\n",
       "    .dataframe tbody tr th:only-of-type {\n",
       "        vertical-align: middle;\n",
       "    }\n",
       "\n",
       "    .dataframe tbody tr th {\n",
       "        vertical-align: top;\n",
       "    }\n",
       "\n",
       "    .dataframe thead th {\n",
       "        text-align: right;\n",
       "    }\n",
       "</style>\n",
       "<table border=\"1\" class=\"dataframe\">\n",
       "  <thead>\n",
       "    <tr style=\"text-align: right;\">\n",
       "      <th></th>\n",
       "      <th>index</th>\n",
       "      <th>name</th>\n",
       "      <th>ALLUVIAL</th>\n",
       "      <th>geometry</th>\n",
       "    </tr>\n",
       "  </thead>\n",
       "  <tbody>\n",
       "    <tr>\n",
       "      <th>0</th>\n",
       "      <td>0</td>\n",
       "      <td>Aborlan</td>\n",
       "      <td>3.0</td>\n",
       "      <td>MULTIPOLYGON (((118.56481 9.51962, 118.56493 9...</td>\n",
       "    </tr>\n",
       "    <tr>\n",
       "      <th>1</th>\n",
       "      <td>1</td>\n",
       "      <td>Alabel</td>\n",
       "      <td>3.0</td>\n",
       "      <td>MULTIPOLYGON (((125.32186 6.11906, 125.32119 6...</td>\n",
       "    </tr>\n",
       "    <tr>\n",
       "      <th>2</th>\n",
       "      <td>2</td>\n",
       "      <td>Bagumbayan</td>\n",
       "      <td>3.0</td>\n",
       "      <td>MULTIPOLYGON (((124.63697 6.42757, 124.63714 6...</td>\n",
       "    </tr>\n",
       "    <tr>\n",
       "      <th>3</th>\n",
       "      <td>3</td>\n",
       "      <td>Banga (SC)</td>\n",
       "      <td>3.0</td>\n",
       "      <td>MULTIPOLYGON (((124.85628 6.40144, 124.85622 6...</td>\n",
       "    </tr>\n",
       "    <tr>\n",
       "      <th>4</th>\n",
       "      <td>4</td>\n",
       "      <td>Bataraza</td>\n",
       "      <td>3.0</td>\n",
       "      <td>MULTIPOLYGON (((117.58782 8.70762, 117.58759 8...</td>\n",
       "    </tr>\n",
       "    <tr>\n",
       "      <th>...</th>\n",
       "      <td>...</td>\n",
       "      <td>...</td>\n",
       "      <td>...</td>\n",
       "      <td>...</td>\n",
       "    </tr>\n",
       "    <tr>\n",
       "      <th>540</th>\n",
       "      <td>540</td>\n",
       "      <td>Tudela (MC)</td>\n",
       "      <td>3.0</td>\n",
       "      <td>MULTIPOLYGON (((123.76596 8.22739, 123.76567 8...</td>\n",
       "    </tr>\n",
       "    <tr>\n",
       "      <th>541</th>\n",
       "      <td>541</td>\n",
       "      <td>Valencia (BK)</td>\n",
       "      <td>3.0</td>\n",
       "      <td>MULTIPOLYGON (((125.23359 7.95358, 125.23360 7...</td>\n",
       "    </tr>\n",
       "    <tr>\n",
       "      <th>542</th>\n",
       "      <td>542</td>\n",
       "      <td>Valencia (NR)</td>\n",
       "      <td>3.0</td>\n",
       "      <td>MULTIPOLYGON (((123.25674 9.31812, 123.25658 9...</td>\n",
       "    </tr>\n",
       "    <tr>\n",
       "      <th>543</th>\n",
       "      <td>543</td>\n",
       "      <td>Vallehermoso</td>\n",
       "      <td>3.0</td>\n",
       "      <td>MULTIPOLYGON (((123.32944 10.35083, 123.32944 ...</td>\n",
       "    </tr>\n",
       "    <tr>\n",
       "      <th>544</th>\n",
       "      <td>544</td>\n",
       "      <td>Villanueva</td>\n",
       "      <td>3.0</td>\n",
       "      <td>MULTIPOLYGON (((124.81968 8.55679, 124.81968 8...</td>\n",
       "    </tr>\n",
       "  </tbody>\n",
       "</table>\n",
       "<p>545 rows × 4 columns</p>\n",
       "</div>"
      ],
      "text/plain": [
       "     index           name  ALLUVIAL  \\\n",
       "0        0        Aborlan       3.0   \n",
       "1        1         Alabel       3.0   \n",
       "2        2     Bagumbayan       3.0   \n",
       "3        3     Banga (SC)       3.0   \n",
       "4        4       Bataraza       3.0   \n",
       "..     ...            ...       ...   \n",
       "540    540    Tudela (MC)       3.0   \n",
       "541    541  Valencia (BK)       3.0   \n",
       "542    542  Valencia (NR)       3.0   \n",
       "543    543   Vallehermoso       3.0   \n",
       "544    544     Villanueva       3.0   \n",
       "\n",
       "                                              geometry  \n",
       "0    MULTIPOLYGON (((118.56481 9.51962, 118.56493 9...  \n",
       "1    MULTIPOLYGON (((125.32186 6.11906, 125.32119 6...  \n",
       "2    MULTIPOLYGON (((124.63697 6.42757, 124.63714 6...  \n",
       "3    MULTIPOLYGON (((124.85628 6.40144, 124.85622 6...  \n",
       "4    MULTIPOLYGON (((117.58782 8.70762, 117.58759 8...  \n",
       "..                                                 ...  \n",
       "540  MULTIPOLYGON (((123.76596 8.22739, 123.76567 8...  \n",
       "541  MULTIPOLYGON (((125.23359 7.95358, 125.23360 7...  \n",
       "542  MULTIPOLYGON (((123.25674 9.31812, 123.25658 9...  \n",
       "543  MULTIPOLYGON (((123.32944 10.35083, 123.32944 ...  \n",
       "544  MULTIPOLYGON (((124.81968 8.55679, 124.81968 8...  \n",
       "\n",
       "[545 rows x 4 columns]"
      ]
     },
     "execution_count": 34,
     "metadata": {},
     "output_type": "execute_result"
    }
   ],
   "source": [
    "gddf = gpd.read_parquet('DebrisFlow-projected.parquet')\n",
    "gddf"
   ]
  },
  {
   "cell_type": "code",
   "execution_count": 35,
   "metadata": {},
   "outputs": [
    {
     "data": {
      "text/plain": [
       "<AxesSubplot: >"
      ]
     },
     "execution_count": 35,
     "metadata": {},
     "output_type": "execute_result"
    },
    {
     "data": {
      "image/png": "[encoded data removed]",
      "text/plain": [
       "<Figure size 640x480 with 1 Axes>"
      ]
     },
     "metadata": {},
     "output_type": "display_data"
    }
   ],
   "source": [
    "gddf.plot()"
   ]
  }
 ],
 "metadata": {
  "kernelspec": {
   "display_name": "sa_geo",
   "language": "python",
   "name": "python3"
  },
  "language_info": {
   "codemirror_mode": {
    "name": "ipython",
    "version": 3
   },
   "file_extension": ".py",
   "mimetype": "text/x-python",
   "name": "python",
   "nbconvert_exporter": "python",
   "pygments_lexer": "ipython3",
   "version": "3.10.8"
  },
  "orig_nbformat": 4,
  "vscode": {
   "interpreter": {
    "hash": "e4ada35e342409204f37810867b98a6816e2b6f13c366192c8b929b7094b4f0d"
   }
  }
 },
 "nbformat": 4,
 "nbformat_minor": 2
}
